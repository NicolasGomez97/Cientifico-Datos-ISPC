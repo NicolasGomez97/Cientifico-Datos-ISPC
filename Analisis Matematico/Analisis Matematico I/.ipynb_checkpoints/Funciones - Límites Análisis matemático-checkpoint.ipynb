{
 "cells": [
  {
   "cell_type": "markdown",
   "metadata": {},
   "source": [
    "# Capitulo 1\n",
    "\n",
    "## Redimento de python 3: Funciones\n",
    "\n",
    "Sintaxis basica"
   ]
  },
  {
   "cell_type": "code",
   "execution_count": 1,
   "metadata": {},
   "outputs": [],
   "source": [
    "def nombre_funcion(argumentos):\n",
    "    # instruccciones\n",
    "    pass"
   ]
  },
  {
   "cell_type": "code",
   "execution_count": 2,
   "metadata": {},
   "outputs": [
    {
     "ename": "NameError",
     "evalue": "name 'argumento' is not defined",
     "output_type": "error",
     "traceback": [
      "\u001b[1;31m---------------------------------------------------------------------------\u001b[0m",
      "\u001b[1;31mNameError\u001b[0m                                 Traceback (most recent call last)",
      "\u001b[1;32m<ipython-input-2-f3f27a160a9e>\u001b[0m in \u001b[0;36m<module>\u001b[1;34m\u001b[0m\n\u001b[1;32m----> 1\u001b[1;33m \u001b[0mnombre_funcion\u001b[0m\u001b[1;33m(\u001b[0m\u001b[0margumento\u001b[0m\u001b[1;33m)\u001b[0m\u001b[1;33m\u001b[0m\u001b[1;33m\u001b[0m\u001b[0m\n\u001b[0m",
      "\u001b[1;31mNameError\u001b[0m: name 'argumento' is not defined"
     ]
    }
   ],
   "source": [
    "nombre_funcion(argumento)"
   ]
  },
  {
   "cell_type": "markdown",
   "metadata": {},
   "source": [
    "#### Funcion:$y - f(x)$\n",
    "\n",
    "### $y = \\sin(x) + \\cos(X)$"
   ]
  },
  {
   "cell_type": "code",
   "execution_count": 4,
   "metadata": {},
   "outputs": [
    {
     "name": "stdout",
     "output_type": "stream",
     "text": [
      "1.0\n"
     ]
    }
   ],
   "source": [
    "import math as m\n",
    "\n",
    "def y(x):\n",
    "    return m.sin(x) + m.cos(x)\n",
    "\n",
    "print(y(m.pi/2))"
   ]
  },
  {
   "cell_type": "markdown",
   "metadata": {},
   "source": [
    "#### Ecuacion de la recta: $y=mx + b$"
   ]
  },
  {
   "cell_type": "code",
   "execution_count": 6,
   "metadata": {},
   "outputs": [],
   "source": [
    "def pendiente(x1,y1,x2,y2):\n",
    "    if x1-x2 ==  0:\n",
    "        pass\n",
    "    else:\n",
    "        return (y2-y1)/(x2-x1)\n",
    "def ecuacion_recta(m, x1, y1):\n",
    "    b = -x1*m + y1\n",
    "    print(\"y =\",m,\"x + b\",b)"
   ]
  },
  {
   "cell_type": "code",
   "execution_count": 7,
   "metadata": {},
   "outputs": [
    {
     "name": "stdout",
     "output_type": "stream",
     "text": [
      "y = 1.0 x + b 0.0\n"
     ]
    }
   ],
   "source": [
    "m = pendiente(0,0,1,1)\n",
    "ecuacion_recta(m,1,1)"
   ]
  },
  {
   "cell_type": "code",
   "execution_count": 6,
   "metadata": {},
   "outputs": [],
   "source": [
    "import numpy as np  \n",
    "\n",
    "#defino la función f que:\n",
    "#recibe como parámetro o variable de entrada x y\n",
    "#retorna la raiz cuadrada de la suma de x mas 2\n",
    "def f(x):\n",
    "    return np.sqrt(x + 2)"
   ]
  },
  {
   "cell_type": "code",
   "execution_count": 7,
   "metadata": {},
   "outputs": [
    {
     "data": {
      "image/png": "[encoded data removed]",
      "text/plain": [
       "<Figure size 1080x720 with 1 Axes>"
      ]
     },
     "metadata": {
      "needs_background": "light"
     },
     "output_type": "display_data"
    }
   ],
   "source": [
    "# Un comentario se definie anteponiendo el símbolo #\n",
    "# importo la librería numpy\n",
    "import numpy as np  \n",
    "\n",
    "#defino la función f que:\n",
    "#recibe como parámetro o variable de entrada x y\n",
    "#retorna la raiz cuadrada de la suma de x mas \n",
    "def f(x):\n",
    "    #return ((x^3 + 5*x + 6)/(x^2-1))\n",
    "    return ((np.power(x,3) + 5*x + 6)/(np.power(x,2)-4))\n",
    "\n",
    "#Defino un vector con 6 valores que tomará x durante la ejecución de f(x)\n",
    "x = np.linspace(-10, 10, 500)\n",
    "#print(x)\n",
    "#asigno a y el resultado de f(x)\n",
    "y = f(x)\n",
    "#muestro los valores calculados (con cada x) de cada y\n",
    "#y\n",
    "\n",
    "%matplotlib inline\n",
    "\n",
    "import matplotlib.pyplot as plt\n",
    "\n",
    "def move_spines():\n",
    "    \"\"\"Esta funcion divide pone al eje y en el valor \n",
    "    0 de x para dividir claramente los valores positivos y\n",
    "    negativos.\"\"\"\n",
    "    fix, ax = plt.subplots(figsize=(15,10))\n",
    "    for spine in [\"left\", \"bottom\"]:\n",
    "        ax.spines[spine].set_position(\"zero\")\n",
    "    \n",
    "    for spine in [\"right\", \"top\"]:\n",
    "        ax.spines[spine].set_color(\"none\")\n",
    "    \n",
    "    return ax\n",
    "\n",
    "#x = np.linspace(-10, 10, num=500)\n",
    "\n",
    "ax = move_spines()\n",
    "ax.grid()\n",
    "ax.plot(x, f(x))\n",
    "plt.title(r\"Grafico de $f(x)=\\{x^3 + 5x + 2}$\")\n",
    "plt.ylabel('f(x)')\n",
    "plt.xlabel('x')\n",
    "plt.show()\n"
   ]
  },
  {
   "cell_type": "code",
   "execution_count": 8,
   "metadata": {},
   "outputs": [
    {
     "name": "stderr",
     "output_type": "stream",
     "text": [
      "C:\\Users\\Nicol\\Anaconda3\\lib\\site-packages\\ipykernel_launcher.py:10: RuntimeWarning: divide by zero encountered in true_divide\n",
      "  # Remove the CWD from sys.path while we load stuff.\n"
     ]
    },
    {
     "data": {
      "text/plain": [
       "array([  -inf, -0.   , -1.5  ,    inf,  7.5  ,  7.875])"
      ]
     },
     "execution_count": 8,
     "metadata": {},
     "output_type": "execute_result"
    }
   ],
   "source": [
    "#Defino un vector con 6 valores que tomará x durante la ejecución de f(x)\n",
    "x = np.array([-2, -1, 0, 2, 4, 6])  # Creando el vector de valores de x\n",
    "#asigno a y el resultado de f(x)\n",
    "y = f(x)\n",
    "#muestro los valores calculados (con cada x) de cada y\n",
    "y"
   ]
  },
  {
   "cell_type": "code",
   "execution_count": 9,
   "metadata": {},
   "outputs": [
    {
     "data": {
      "text/html": [
       "<div>\n",
       "<style scoped>\n",
       "    .dataframe tbody tr th:only-of-type {\n",
       "        vertical-align: middle;\n",
       "    }\n",
       "\n",
       "    .dataframe tbody tr th {\n",
       "        vertical-align: top;\n",
       "    }\n",
       "\n",
       "    .dataframe thead th {\n",
       "        text-align: right;\n",
       "    }\n",
       "</style>\n",
       "<table border=\"1\" class=\"dataframe\">\n",
       "  <thead>\n",
       "    <tr style=\"text-align: right;\">\n",
       "      <th></th>\n",
       "      <th>x</th>\n",
       "      <th>f(x)</th>\n",
       "    </tr>\n",
       "  </thead>\n",
       "  <tbody>\n",
       "    <tr>\n",
       "      <th>0</th>\n",
       "      <td>-2</td>\n",
       "      <td>-inf</td>\n",
       "    </tr>\n",
       "    <tr>\n",
       "      <th>1</th>\n",
       "      <td>-1</td>\n",
       "      <td>-0.000</td>\n",
       "    </tr>\n",
       "    <tr>\n",
       "      <th>2</th>\n",
       "      <td>0</td>\n",
       "      <td>-1.500</td>\n",
       "    </tr>\n",
       "    <tr>\n",
       "      <th>3</th>\n",
       "      <td>2</td>\n",
       "      <td>inf</td>\n",
       "    </tr>\n",
       "    <tr>\n",
       "      <th>4</th>\n",
       "      <td>4</td>\n",
       "      <td>7.500</td>\n",
       "    </tr>\n",
       "    <tr>\n",
       "      <th>5</th>\n",
       "      <td>6</td>\n",
       "      <td>7.875</td>\n",
       "    </tr>\n",
       "  </tbody>\n",
       "</table>\n",
       "</div>"
      ],
      "text/plain": [
       "   x   f(x)\n",
       "0 -2   -inf\n",
       "1 -1 -0.000\n",
       "2  0 -1.500\n",
       "3  2    inf\n",
       "4  4  7.500\n",
       "5  6  7.875"
      ]
     },
     "execution_count": 9,
     "metadata": {},
     "output_type": "execute_result"
    }
   ],
   "source": [
    "#importo la librería pandas con alias pd\n",
    "import pandas as pd\n",
    "#asigno a tabla un Dataframe (ya veremos que es) con los valores de cada x e y correspondiente en las filas\n",
    "tabla = pd.DataFrame( list(zip(x, y)), columns=['x', 'f(x)'] )\n",
    "tabla"
   ]
  },
  {
   "cell_type": "code",
   "execution_count": 10,
   "metadata": {},
   "outputs": [
    {
     "name": "stderr",
     "output_type": "stream",
     "text": [
      "C:\\Users\\Nicol\\Anaconda3\\lib\\site-packages\\ipykernel_launcher.py:10: RuntimeWarning: divide by zero encountered in true_divide\n",
      "  # Remove the CWD from sys.path while we load stuff.\n"
     ]
    },
    {
     "data": {
      "image/png": "[encoded data removed]",
      "text/plain": [
       "<Figure size 1080x720 with 1 Axes>"
      ]
     },
     "metadata": {
      "needs_background": "light"
     },
     "output_type": "display_data"
    }
   ],
   "source": [
    "%matplotlib inline\n",
    "\n",
    "import matplotlib.pyplot as plt\n",
    "\n",
    "def move_spines():\n",
    "    \"\"\"Esta funcion divide pone al eje y en el valor \n",
    "    0 de x para dividir claramente los valores positivos y\n",
    "    negativos.\"\"\"\n",
    "    fix, ax = plt.subplots(figsize=(15,10))\n",
    "    for spine in [\"left\", \"bottom\"]:\n",
    "        ax.spines[spine].set_position(\"zero\")\n",
    "    \n",
    "    for spine in [\"right\", \"top\"]:\n",
    "        ax.spines[spine].set_color(\"none\")\n",
    "    \n",
    "    return ax\n",
    "\n",
    "x = np.linspace(-2, 6, num=30)\n",
    "\n",
    "ax = move_spines()\n",
    "ax.grid()\n",
    "ax.plot(x, f(x))\n",
    "plt.title(r\"Grafico de $f(x)=\\sqrt{x + 2}$\")\n",
    "plt.ylabel('f(x)')\n",
    "plt.xlabel('x')\n",
    "plt.show()"
   ]
  },
  {
   "cell_type": "code",
   "execution_count": null,
   "metadata": {},
   "outputs": [],
   "source": []
  }
 ],
 "metadata": {
  "kernelspec": {
   "display_name": "Python 3",
   "language": "python",
   "name": "python3"
  }
 },
 "nbformat": 4,
 "nbformat_minor": 2
}
