{
 "cells": [
  {
   "cell_type": "markdown",
   "metadata": {},
   "source": [
    "## Regresión Lineal – Teoría\n",
    "La regresión lineal es una técnica paramétrica de machine learning. Con «paramétrica» queremos decir que incluso antes de mirar a los datos, ya sabemos cuántos parámetros (o coeficientes) vamos a necesitar.\n",
    "\n",
    "En el caso que estemos usando una sola variable, x, sabemos que una línea necesita 2 parámetros. La fórmula para la regresión lineal con una sola variable x es:\n",
    "\n",
    "$y = wx + b$"
   ]
  },
  {
   "cell_type": "markdown",
   "metadata": {},
   "source": [
    "# Modelos de Regresión Lineal\n",
    "## Modelo con datos simulados\n",
    "* y = a + b * x\n",
    "* X : 100 valores distribuídos según una N(1.5, 2.5) 1.5 media, 2.5 Desviación estandar\n",
    "* Ye = 5 + 1.9 * x + e\n",
    "* e estará distribuído según una N(0, 0.8)"
   ]
  },
  {
   "cell_type": "code",
   "execution_count": 11,
   "metadata": {},
   "outputs": [],
   "source": [
    "import pandas as pd\n",
    "import numpy as np"
   ]
  },
  {
   "cell_type": "code",
   "execution_count": 7,
   "metadata": {},
   "outputs": [
    {
     "data": {
      "text/plain": [
       "array([-0.86008102, -2.42334161,  2.47551638,  3.29296191,  2.26309306,\n",
       "        0.75276959,  4.50621009,  0.80169872,  1.03927719,  3.79151167,\n",
       "       -0.82128296, -1.15324978, -0.46267916,  2.90678752, -1.44881022,\n",
       "        0.77496802, -2.89449781, -0.3314201 , -1.8765703 , -0.62749555,\n",
       "        1.96764017, -0.26608562,  1.39144131,  0.74214618,  1.7631751 ,\n",
       "        1.45681867,  7.52838573, -3.32124148,  2.88429108, -1.00883502,\n",
       "        1.99085647,  1.04175396,  2.17388525, -0.81973235,  0.29805788,\n",
       "        3.51004287,  1.04421692,  3.62851117, -0.43402469,  1.0696569 ,\n",
       "        3.11911716,  1.55284062, -1.78158112, -3.82503488,  2.55737121,\n",
       "        0.52204209, -1.52598886,  0.2485722 ,  4.70481651, -1.33143772,\n",
       "       -0.36518234,  5.77254904,  2.54876784,  2.61133302, -1.78658472,\n",
       "       -2.35432641,  3.91625497,  4.0702619 ,  2.93897671,  3.22825127,\n",
       "        0.49322083, -0.45188665, -2.12674124,  3.73948179, -2.24991455,\n",
       "        4.46805811, -1.35643257,  4.71151754,  1.04536376,  1.2316913 ,\n",
       "       -0.62266284,  3.96119878,  2.05124988,  3.20351425,  4.09986974,\n",
       "        6.9009445 ,  0.4818391 ,  3.85754872,  0.17115692, -2.77114441,\n",
       "        4.6446069 ,  5.11935306,  4.79598792,  4.19894561,  2.48627175,\n",
       "        5.45365855, -0.98387827,  1.6408599 , -2.60983046,  5.71787638,\n",
       "        5.42654109,  2.04642882, -2.27856325,  0.68837451,  2.85151789,\n",
       "        4.5648856 ,  0.75853214,  0.62519016,  2.4487875 ,  7.57181484])"
      ]
     },
     "execution_count": 7,
     "metadata": {},
     "output_type": "execute_result"
    }
   ],
   "source": [
    "x = 1.5 + 2.5 * np.random.randn(100)"
   ]
  },
  {
   "cell_type": "code",
   "execution_count": 3,
   "metadata": {},
   "outputs": [],
   "source": [
    "res = 0 + 0.8 * np.random.randn(100)"
   ]
  },
  {
   "cell_type": "code",
   "execution_count": 21,
   "metadata": {},
   "outputs": [],
   "source": [
    "y_pred = 5 + 1.9 * x"
   ]
  },
  {
   "cell_type": "code",
   "execution_count": 22,
   "metadata": {},
   "outputs": [],
   "source": [
    "y_act = 5 + 1.9* x + res"
   ]
  },
  {
   "cell_type": "code",
   "execution_count": 23,
   "metadata": {},
   "outputs": [],
   "source": [
    "x_list = x.tolist()\n",
    "y_pred_list = y_pred.tolist()\n",
    "y_act_list = y_act.tolist()"
   ]
  },
  {
   "cell_type": "code",
   "execution_count": 24,
   "metadata": {},
   "outputs": [],
   "source": [
    "x_list = x.tolist()\n",
    "y_pred_list = y_pred.tolist()\n",
    "y_act_list = y_act.tolist()"
   ]
  },
  {
   "cell_type": "code",
   "execution_count": 25,
   "metadata": {},
   "outputs": [],
   "source": [
    "data = pd.DataFrame(\n",
    "    {\n",
    "        \"x\": x_list,\n",
    "        \"y_actual\":y_act_list ,\n",
    "        \"y_prediccion\":y_pred_list\n",
    "    }\n",
    ")"
   ]
  },
  {
   "cell_type": "code",
   "execution_count": 26,
   "metadata": {},
   "outputs": [
    {
     "data": {
      "text/html": [
       "<div>\n",
       "<style scoped>\n",
       "    .dataframe tbody tr th:only-of-type {\n",
       "        vertical-align: middle;\n",
       "    }\n",
       "\n",
       "    .dataframe tbody tr th {\n",
       "        vertical-align: top;\n",
       "    }\n",
       "\n",
       "    .dataframe thead th {\n",
       "        text-align: right;\n",
       "    }\n",
       "</style>\n",
       "<table border=\"1\" class=\"dataframe\">\n",
       "  <thead>\n",
       "    <tr style=\"text-align: right;\">\n",
       "      <th></th>\n",
       "      <th>x</th>\n",
       "      <th>y_actual</th>\n",
       "      <th>y_prediccion</th>\n",
       "    </tr>\n",
       "  </thead>\n",
       "  <tbody>\n",
       "    <tr>\n",
       "      <th>0</th>\n",
       "      <td>-0.860081</td>\n",
       "      <td>2.694364</td>\n",
       "      <td>3.365846</td>\n",
       "    </tr>\n",
       "    <tr>\n",
       "      <th>1</th>\n",
       "      <td>-2.423342</td>\n",
       "      <td>1.202921</td>\n",
       "      <td>0.395651</td>\n",
       "    </tr>\n",
       "    <tr>\n",
       "      <th>2</th>\n",
       "      <td>2.475516</td>\n",
       "      <td>8.660581</td>\n",
       "      <td>9.703481</td>\n",
       "    </tr>\n",
       "    <tr>\n",
       "      <th>3</th>\n",
       "      <td>3.292962</td>\n",
       "      <td>9.627111</td>\n",
       "      <td>11.256628</td>\n",
       "    </tr>\n",
       "    <tr>\n",
       "      <th>4</th>\n",
       "      <td>2.263093</td>\n",
       "      <td>9.088929</td>\n",
       "      <td>9.299877</td>\n",
       "    </tr>\n",
       "  </tbody>\n",
       "</table>\n",
       "</div>"
      ],
      "text/plain": [
       "          x  y_actual  y_prediccion\n",
       "0 -0.860081  2.694364      3.365846\n",
       "1 -2.423342  1.202921      0.395651\n",
       "2  2.475516  8.660581      9.703481\n",
       "3  3.292962  9.627111     11.256628\n",
       "4  2.263093  9.088929      9.299877"
      ]
     },
     "execution_count": 26,
     "metadata": {},
     "output_type": "execute_result"
    }
   ],
   "source": [
    "data.head()"
   ]
  },
  {
   "cell_type": "code",
   "execution_count": 27,
   "metadata": {},
   "outputs": [],
   "source": [
    "import matplotlib.pyplot as plt"
   ]
  },
  {
   "cell_type": "code",
   "execution_count": 42,
   "metadata": {},
   "outputs": [],
   "source": [
    "y_mean = [np.mean(y_act) for i in range(0, len(x_list))]"
   ]
  },
  {
   "cell_type": "code",
   "execution_count": 44,
   "metadata": {},
   "outputs": [
    {
     "data": {
      "text/plain": [
       "Text(0.5, 1.0, 'Valor Actual vs predicción')"
      ]
     },
     "execution_count": 44,
     "metadata": {},
     "output_type": "execute_result"
    },
    {
     "data": {
      "image/png": "[encoded data removed]",
      "text/plain": [
       "<Figure size 432x288 with 1 Axes>"
      ]
     },
     "metadata": {
      "needs_background": "light"
     },
     "output_type": "display_data"
    }
   ],
   "source": [
    "%matplotlib inline\n",
    "plt.plot(x,y_pred)\n",
    "plt.plot(x,y_act, \"ro\")\n",
    "plt.plot(x,y_mean, \"g\")\n",
    "plt.title(\"Valor Actual vs predicción\")"
   ]
  },
  {
   "cell_type": "code",
   "execution_count": 48,
   "metadata": {},
   "outputs": [],
   "source": [
    "data[\"SSR\"]=(data[\"y_prediccion\"]-np.mean(y_act))**2\n",
    "data[\"SSD\"]=(data[\"y_prediccion\"]-data[\"y_actual\"])**2\n",
    "data[\"SST\"]=(data[\"y_actual\"]-np.mean(y_act))**2"
   ]
  },
  {
   "cell_type": "code",
   "execution_count": 50,
   "metadata": {},
   "outputs": [
    {
     "data": {
      "text/html": [
       "<div>\n",
       "<style scoped>\n",
       "    .dataframe tbody tr th:only-of-type {\n",
       "        vertical-align: middle;\n",
       "    }\n",
       "\n",
       "    .dataframe tbody tr th {\n",
       "        vertical-align: top;\n",
       "    }\n",
       "\n",
       "    .dataframe thead th {\n",
       "        text-align: right;\n",
       "    }\n",
       "</style>\n",
       "<table border=\"1\" class=\"dataframe\">\n",
       "  <thead>\n",
       "    <tr style=\"text-align: right;\">\n",
       "      <th></th>\n",
       "      <th>x</th>\n",
       "      <th>y_actual</th>\n",
       "      <th>y_prediccion</th>\n",
       "      <th>SSR</th>\n",
       "      <th>SSD</th>\n",
       "      <th>SST</th>\n",
       "    </tr>\n",
       "  </thead>\n",
       "  <tbody>\n",
       "    <tr>\n",
       "      <th>0</th>\n",
       "      <td>-0.860081</td>\n",
       "      <td>2.694364</td>\n",
       "      <td>3.365846</td>\n",
       "      <td>19.253946</td>\n",
       "      <td>0.450889</td>\n",
       "      <td>25.597673</td>\n",
       "    </tr>\n",
       "    <tr>\n",
       "      <th>1</th>\n",
       "      <td>-2.423342</td>\n",
       "      <td>1.202921</td>\n",
       "      <td>0.395651</td>\n",
       "      <td>54.142032</td>\n",
       "      <td>0.651685</td>\n",
       "      <td>42.913727</td>\n",
       "    </tr>\n",
       "    <tr>\n",
       "      <th>2</th>\n",
       "      <td>2.475516</td>\n",
       "      <td>8.660581</td>\n",
       "      <td>9.703481</td>\n",
       "      <td>3.801343</td>\n",
       "      <td>1.087640</td>\n",
       "      <td>0.822293</td>\n",
       "    </tr>\n",
       "    <tr>\n",
       "      <th>3</th>\n",
       "      <td>3.292962</td>\n",
       "      <td>9.627111</td>\n",
       "      <td>11.256628</td>\n",
       "      <td>12.269956</td>\n",
       "      <td>2.655324</td>\n",
       "      <td>3.509377</td>\n",
       "    </tr>\n",
       "    <tr>\n",
       "      <th>4</th>\n",
       "      <td>2.263093</td>\n",
       "      <td>9.088929</td>\n",
       "      <td>9.299877</td>\n",
       "      <td>2.390422</td>\n",
       "      <td>0.044499</td>\n",
       "      <td>1.782629</td>\n",
       "    </tr>\n",
       "  </tbody>\n",
       "</table>\n",
       "</div>"
      ],
      "text/plain": [
       "          x  y_actual  y_prediccion        SSR       SSD        SST\n",
       "0 -0.860081  2.694364      3.365846  19.253946  0.450889  25.597673\n",
       "1 -2.423342  1.202921      0.395651  54.142032  0.651685  42.913727\n",
       "2  2.475516  8.660581      9.703481   3.801343  1.087640   0.822293\n",
       "3  3.292962  9.627111     11.256628  12.269956  2.655324   3.509377\n",
       "4  2.263093  9.088929      9.299877   2.390422  0.044499   1.782629"
      ]
     },
     "execution_count": 50,
     "metadata": {},
     "output_type": "execute_result"
    }
   ],
   "source": [
    "data.head()"
   ]
  },
  {
   "cell_type": "code",
   "execution_count": null,
   "metadata": {},
   "outputs": [],
   "source": [
    " "
   ]
  }
 ],
 "metadata": {
  "kernelspec": {
   "display_name": "Python 3",
   "language": "python",
   "name": "python3"
  },
  "language_info": {
   "codemirror_mode": {
    "name": "ipython",
    "version": 3
   },
   "file_extension": ".py",
   "mimetype": "text/x-python",
   "name": "python",
   "nbconvert_exporter": "python",
   "pygments_lexer": "ipython3",
   "version": "3.7.3"
  }
 },
 "nbformat": 4,
 "nbformat_minor": 2
}
