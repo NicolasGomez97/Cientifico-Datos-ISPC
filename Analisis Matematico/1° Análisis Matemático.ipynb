{
 "cells": [
  {
   "cell_type": "markdown",
   "metadata": {},
   "source": [
    "# Funciones con python"
   ]
  },
  {
   "cell_type": "code",
   "execution_count": 1,
   "metadata": {},
   "outputs": [],
   "source": [
    "# Un comentario se definie anteponiendo el símbolo #\n",
    "# importo la librería numpy\n",
    "import numpy as np  \n",
    "\n",
    "#defino la función f que:\n",
    "#recibe como parámetro o variable de entrada x y\n",
    "#retorna la raiz cuadrada de la suma de x mas 2\n",
    "def f(x):\n",
    "    return V"
   ]
  },
  {
   "cell_type": "code",
   "execution_count": 2,
   "metadata": {},
   "outputs": [
    {
     "data": {
      "text/plain": [
       "array([0.        , 1.        , 1.41421356, 2.        , 2.44948974,\n",
       "       2.82842712])"
      ]
     },
     "execution_count": 2,
     "metadata": {},
     "output_type": "execute_result"
    }
   ],
   "source": [
    "#Defino un vector con 6 valores que tomará x durante la ejecución de f(x)\n",
    "x = np.array([-2, -1, 0, 2, 4, 6])  # Creando el vector de valores de x\n",
    "#asigno a y el resultado de f(x)\n",
    "y = f(x)\n",
    "#muestro los valores calculados (con cada x) de cada y\n",
    "y"
   ]
  },
  {
   "cell_type": "code",
   "execution_count": 3,
   "metadata": {},
   "outputs": [
    {
     "data": {
      "text/html": [
       "<div>\n",
       "<style scoped>\n",
       "    .dataframe tbody tr th:only-of-type {\n",
       "        vertical-align: middle;\n",
       "    }\n",
       "\n",
       "    .dataframe tbody tr th {\n",
       "        vertical-align: top;\n",
       "    }\n",
       "\n",
       "    .dataframe thead th {\n",
       "        text-align: right;\n",
       "    }\n",
       "</style>\n",
       "<table border=\"1\" class=\"dataframe\">\n",
       "  <thead>\n",
       "    <tr style=\"text-align: right;\">\n",
       "      <th></th>\n",
       "      <th>x</th>\n",
       "      <th>f(x)</th>\n",
       "    </tr>\n",
       "  </thead>\n",
       "  <tbody>\n",
       "    <tr>\n",
       "      <th>0</th>\n",
       "      <td>-2</td>\n",
       "      <td>0.000000</td>\n",
       "    </tr>\n",
       "    <tr>\n",
       "      <th>1</th>\n",
       "      <td>-1</td>\n",
       "      <td>1.000000</td>\n",
       "    </tr>\n",
       "    <tr>\n",
       "      <th>2</th>\n",
       "      <td>0</td>\n",
       "      <td>1.414214</td>\n",
       "    </tr>\n",
       "    <tr>\n",
       "      <th>3</th>\n",
       "      <td>2</td>\n",
       "      <td>2.000000</td>\n",
       "    </tr>\n",
       "    <tr>\n",
       "      <th>4</th>\n",
       "      <td>4</td>\n",
       "      <td>2.449490</td>\n",
       "    </tr>\n",
       "    <tr>\n",
       "      <th>5</th>\n",
       "      <td>6</td>\n",
       "      <td>2.828427</td>\n",
       "    </tr>\n",
       "  </tbody>\n",
       "</table>\n",
       "</div>"
      ],
      "text/plain": [
       "   x      f(x)\n",
       "0 -2  0.000000\n",
       "1 -1  1.000000\n",
       "2  0  1.414214\n",
       "3  2  2.000000\n",
       "4  4  2.449490\n",
       "5  6  2.828427"
      ]
     },
     "execution_count": 3,
     "metadata": {},
     "output_type": "execute_result"
    }
   ],
   "source": [
    "#importo la librería pandas con alias pd\n",
    "import pandas as pd\n",
    "#asigno a tabla un Dataframe (ya veremos que es) con los valores de cada x e y correspondiente en las filas\n",
    "tabla = pd.DataFrame( list(zip(x, y)), columns=['x', 'f(x)'] )\n",
    "tabla"
   ]
  },
  {
   "cell_type": "code",
   "execution_count": 5,
   "metadata": {},
   "outputs": [
    {
     "data": {
      "image/png": "[encoded data removed]",
      "text/plain": [
       "<Figure size 1080x720 with 1 Axes>"
      ]
     },
     "metadata": {
      "needs_background": "light"
     },
     "output_type": "display_data"
    }
   ],
   "source": [
    "%matplotlib inline\n",
    "\n",
    "import matplotlib.pyplot as plt\n",
    "\n",
    "def move_spines():\n",
    "    \"\"\"Esta funcion divide pone al eje y en el valor \n",
    "    0 de x para dividir claramente los valores positivos y\n",
    "    negativos.\"\"\"\n",
    "    fix, ax = plt.subplots(figsize=(15,10))\n",
    "    for spine in [\"left\", \"bottom\"]:\n",
    "        ax.spines[spine].set_position(\"zero\")\n",
    "    \n",
    "    for spine in [\"right\", \"top\"]:\n",
    "        ax.spines[spine].set_color(\"none\")\n",
    "    \n",
    "    return ax\n",
    "\n",
    "x = np.linspace(-2, 6, num=30)\n",
    "\n",
    "ax = move_spines()\n",
    "ax.grid()\n",
    "ax.plot(x, f(x))\n",
    "plt.title(r\"Grafico de $f(x)=\\sqrt{x + 2}$\")\n",
    "plt.ylabel('f(x)')\n",
    "plt.xlabel('x')\n",
    "plt.show()"
   ]
  },
  {
   "cell_type": "markdown",
   "metadata": {},
   "source": [
    "# Límites"
   ]
  },
  {
   "cell_type": "code",
   "execution_count": 6,
   "metadata": {},
   "outputs": [
    {
     "data": {
      "text/html": [
       "<div>\n",
       "<style scoped>\n",
       "    .dataframe tbody tr th:only-of-type {\n",
       "        vertical-align: middle;\n",
       "    }\n",
       "\n",
       "    .dataframe tbody tr th {\n",
       "        vertical-align: top;\n",
       "    }\n",
       "\n",
       "    .dataframe thead th {\n",
       "        text-align: right;\n",
       "    }\n",
       "</style>\n",
       "<table border=\"1\" class=\"dataframe\">\n",
       "  <thead>\n",
       "    <tr style=\"text-align: right;\">\n",
       "      <th></th>\n",
       "      <th>x</th>\n",
       "      <th>f(x)</th>\n",
       "    </tr>\n",
       "  </thead>\n",
       "  <tbody>\n",
       "    <tr>\n",
       "      <th>0</th>\n",
       "      <td>1.000</td>\n",
       "      <td>2.000000</td>\n",
       "    </tr>\n",
       "    <tr>\n",
       "      <th>1</th>\n",
       "      <td>1.500</td>\n",
       "      <td>2.750000</td>\n",
       "    </tr>\n",
       "    <tr>\n",
       "      <th>2</th>\n",
       "      <td>1.900</td>\n",
       "      <td>3.710000</td>\n",
       "    </tr>\n",
       "    <tr>\n",
       "      <th>3</th>\n",
       "      <td>1.950</td>\n",
       "      <td>3.852500</td>\n",
       "    </tr>\n",
       "    <tr>\n",
       "      <th>4</th>\n",
       "      <td>1.990</td>\n",
       "      <td>3.970100</td>\n",
       "    </tr>\n",
       "    <tr>\n",
       "      <th>5</th>\n",
       "      <td>1.999</td>\n",
       "      <td>3.997001</td>\n",
       "    </tr>\n",
       "    <tr>\n",
       "      <th>6</th>\n",
       "      <td>2.001</td>\n",
       "      <td>4.003001</td>\n",
       "    </tr>\n",
       "    <tr>\n",
       "      <th>7</th>\n",
       "      <td>2.050</td>\n",
       "      <td>4.152500</td>\n",
       "    </tr>\n",
       "    <tr>\n",
       "      <th>8</th>\n",
       "      <td>2.100</td>\n",
       "      <td>4.310000</td>\n",
       "    </tr>\n",
       "    <tr>\n",
       "      <th>9</th>\n",
       "      <td>2.200</td>\n",
       "      <td>4.640000</td>\n",
       "    </tr>\n",
       "    <tr>\n",
       "      <th>10</th>\n",
       "      <td>2.500</td>\n",
       "      <td>5.750000</td>\n",
       "    </tr>\n",
       "    <tr>\n",
       "      <th>11</th>\n",
       "      <td>3.000</td>\n",
       "      <td>8.000000</td>\n",
       "    </tr>\n",
       "  </tbody>\n",
       "</table>\n",
       "</div>"
      ],
      "text/plain": [
       "        x      f(x)\n",
       "0   1.000  2.000000\n",
       "1   1.500  2.750000\n",
       "2   1.900  3.710000\n",
       "3   1.950  3.852500\n",
       "4   1.990  3.970100\n",
       "5   1.999  3.997001\n",
       "6   2.001  4.003001\n",
       "7   2.050  4.152500\n",
       "8   2.100  4.310000\n",
       "9   2.200  4.640000\n",
       "10  2.500  5.750000\n",
       "11  3.000  8.000000"
      ]
     },
     "execution_count": 6,
     "metadata": {},
     "output_type": "execute_result"
    }
   ],
   "source": [
    "# <!-- collapse=True -->\n",
    "def f(x):\n",
    "    return x**2 - x + 2\n",
    "\n",
    "x = np.array([1, 1.5, 1.9, 1.95, 1.99, 1.999, 2.001, 2.05, 2.1, 2.2, 2.5, 3 ])\n",
    "y = f(x)\n",
    "tabla = pd.DataFrame(list(zip(x, y)), columns=['x', 'f(x)'])\n",
    "tabla"
   ]
  },
  {
   "cell_type": "code",
   "execution_count": 7,
   "metadata": {},
   "outputs": [
    {
     "data": {
      "image/png": "[encoded data removed]",
      "text/plain": [
       "<Figure size 1080x720 with 1 Axes>"
      ]
     },
     "metadata": {
      "needs_background": "light"
     },
     "output_type": "display_data"
    }
   ],
   "source": [
    "# <!-- collapse=True -->\n",
    "x = np.linspace(-2, 4, num=30)\n",
    "\n",
    "ax = move_spines()\n",
    "ax.grid()\n",
    "ax.plot(x, f(x))\n",
    "ax.scatter(2, 4, label=\"limite cuando x tiende a 2\", color='r')\n",
    "plt.legend()\n",
    "plt.title(r\"Grafico de $f(x)=x^2 -x + 2$\")\n",
    "plt.ylabel('f(x)')\n",
    "plt.xlabel('x')\n",
    "plt.show()"
   ]
  },
  {
   "cell_type": "markdown",
   "metadata": {},
   "source": [
    "Es decir que si tenemos a la constante  C  y a los límites  limx→af(x)  y  limx→ag(x) . Entonces podemos expresar estas propiedades matemáticamente de la siguiente forma:\n",
    "\n",
    "1- Ley de la suma:  limx→a[f(x)+g(x)]=limx→af(x)+limx→ag(x) .\n",
    "\n",
    "2- Ley de la diferencia:  limx→a[f(x)−g(x)]=limx→af(x)−limx→ag(x) .\n",
    "\n",
    "3- Ley del producto:  limx→a[f(x)⋅g(x)]=limx→af(x)⋅limx→ag(x) .\n",
    "\n",
    "4- ley del multiplo constante:  limx→a[C⋅f(x)]=C⋅limx→af(x) .\n",
    "\n",
    "5- Ley del cociente:  limx→a[f(x)g(x)]=limx→af(x)limx→ag(x) , si  limx→ag(x)≠0 ."
   ]
  },
  {
   "cell_type": "code",
   "execution_count": 8,
   "metadata": {},
   "outputs": [
    {
     "data": {
      "text/latex": [
       "$\\displaystyle \\lim_{x \\to 2^+}\\left(x^{2} - x + 2\\right)$"
      ],
      "text/plain": [
       "     ⎛ 2        ⎞\n",
       " lim ⎝x  - x + 2⎠\n",
       "x─→2⁺            "
      ]
     },
     "execution_count": 8,
     "metadata": {},
     "output_type": "execute_result"
    }
   ],
   "source": [
    "from sympy.interactive import printing\n",
    "from sympy import Limit, limit, Symbol, S\n",
    "\n",
    "# imprimir con notación matemática.\n",
    "printing.init_printing(use_latex='mathjax') \n",
    "\n",
    "x = Symbol('x') # Creando el simbolo x.\n",
    "Limit(x**2 - x + 2, x, 2) # Creando el objeto Limit"
   ]
  },
  {
   "cell_type": "code",
   "execution_count": 9,
   "metadata": {},
   "outputs": [
    {
     "data": {
      "text/latex": [
       "$\\displaystyle 4$"
      ],
      "text/plain": [
       "4"
      ]
     },
     "execution_count": 9,
     "metadata": {},
     "output_type": "execute_result"
    }
   ],
   "source": [
    "# Resolviendo el Limite con el metodo doit()\n",
    "Limit(x**2 - x + 2, x, 2).doit()"
   ]
  },
  {
   "cell_type": "code",
   "execution_count": 10,
   "metadata": {},
   "outputs": [
    {
     "data": {
      "text/latex": [
       "$\\displaystyle 4$"
      ],
      "text/plain": [
       "4"
      ]
     },
     "execution_count": 10,
     "metadata": {},
     "output_type": "execute_result"
    }
   ],
   "source": [
    "# La funcion limit nos da directamente el resultado\n",
    "limit(x**2 - x + 2, x, 2)"
   ]
  },
  {
   "cell_type": "code",
   "execution_count": 11,
   "metadata": {},
   "outputs": [
    {
     "data": {
      "text/latex": [
       "$\\displaystyle \\lim_{x \\to \\infty} \\frac{1}{x}$"
      ],
      "text/plain": [
       "    1\n",
       "lim ─\n",
       "x─→∞x"
      ]
     },
     "execution_count": 11,
     "metadata": {},
     "output_type": "execute_result"
    }
   ],
   "source": [
    "# Resolviendo limite 1/x cuando x tiende a infinito\n",
    "Limit(1/x, x, S.Infinity)"
   ]
  },
  {
   "cell_type": "code",
   "execution_count": 12,
   "metadata": {},
   "outputs": [
    {
     "data": {
      "text/latex": [
       "$\\displaystyle 0$"
      ],
      "text/plain": [
       "0"
      ]
     },
     "execution_count": 12,
     "metadata": {},
     "output_type": "execute_result"
    }
   ],
   "source": [
    "Limit(1/x, x, S.Infinity).doit()"
   ]
  },
  {
   "cell_type": "code",
   "execution_count": null,
   "metadata": {},
   "outputs": [],
   "source": []
  }
 ],
 "metadata": {
  "kernelspec": {
   "display_name": "Python 3",
   "language": "python",
   "name": "python3"
  },
  "language_info": {
   "codemirror_mode": {
    "name": "ipython",
    "version": 3
   },
   "file_extension": ".py",
   "mimetype": "text/x-python",
   "name": "python",
   "nbconvert_exporter": "python",
   "pygments_lexer": "ipython3",
   "version": "3.7.3"
  }
 },
 "nbformat": 4,
 "nbformat_minor": 2
}
